{
 "cells": [
  {
   "cell_type": "code",
   "execution_count": 60,
   "metadata": {},
   "outputs": [
    {
     "name": "stdout",
     "output_type": "stream",
     "text": [
      "[]\n"
     ]
    }
   ],
   "source": [
    "# import the libaries used to manipulate files\n",
    "import numpy as np\n",
    "import pandas as pd\n",
    "import scipy as sp\n",
    "from scipy import io\n",
    "\n",
    "# read in .mtx fileextension using scipy to generate matrix\n",
    "mtxmatrix = sp.io.mmread('C:/Users/mastercljohnson/Desktop/Assignment/M44_matrix.mtx')\n",
    "genetsvfile = pd.Series('C:/Users/mastercljohnson/Desktop/Assignment/M44_genes.tsv')\n",
    "bartsvfile = pd.Series('C:/Users/mastercljohnson/Desktop/Assignment/M44_barcodes.tsv')\n",
    "\n",
    "# use list of genes\n",
    "listofgenes =[]\n",
    "file = 'C:/Users/mastercljohnson/Desktop/Assignment/365_EMT_gene_signatures.txt'\n",
    "with open(file) as opened_file:\n",
    "    listofgenes = opened_file.read().splitlines()\n",
    "\n",
    "csrmtx = mtxmatrix.tocsr()\n",
    "\n",
    "#convert gene series to all uppercase\n",
    "genetsvfile.str.upper()\n",
    "\n",
    "# pseudocoded hash for barcode index\n",
    "def barhash( bar ):\n",
    "    for i in range(0,bartsvfile.size):\n",
    "        if( bartsvfile[i].upper() == bar ):\n",
    "            return i;\n",
    "    \n",
    "# pseudocoded hash for gene index\n",
    "def genehash( gene  ):\n",
    "    for i in range(0,genetsvfile.size):\n",
    "        if( genetsvfile[i].upper() == gene ):\n",
    "            return i\n",
    "    return -1\n",
    "            \n",
    "\n",
    "            \n",
    "    \n",
    "# NOTE: STILL DOES NOT KNOW WHETHER CSRMTX CAN BE ACCESED BY INDEX LIKE THIS\n",
    "    \n",
    "# Create Hashtable with linear buckets\n",
    "htblgene = [[] for i in range(csrmtx.shape[0])]\n",
    "htblbar = [[] for i in range(csrmtx.shape[0])]\n",
    "\n",
    "# print(csrmtx.shape)\n",
    "# # feed into the hashtables\n",
    "for count in range(0 , csrmtx.shape[0]):\n",
    "    if (csrmtx[count , 2] > 0):\n",
    "        #cells with [gene,count]\n",
    "        htblbar[csrmtx[count , 1].astype(int)].append([csrmtx[count , 0],csrmtx[count , 2].astype(int)] )\n",
    "        # genes in how many cells\n",
    "        htblgene[ csrmtx[count , 0].astype(int) ].append(1)\n",
    "\n",
    "\n",
    "# Hash the genes of interest to their respective gene indexes\n",
    "# Also handle case where gene is not found\n",
    "genestoindex = []\n",
    "for gene in listofgenes:\n",
    "    x = genehash( gene )\n",
    "    if ( x != -1 ):\n",
    "        genestoindex.append( x )\n",
    "    \n",
    "print(genestoindex)\n",
    "\n"
   ]
  },
  {
   "cell_type": "code",
   "execution_count": null,
   "metadata": {},
   "outputs": [],
   "source": []
  }
 ],
 "metadata": {
  "kernelspec": {
   "display_name": "Python 3",
   "language": "python",
   "name": "python3"
  },
  "language_info": {
   "codemirror_mode": {
    "name": "ipython",
    "version": 3
   },
   "file_extension": ".py",
   "mimetype": "text/x-python",
   "name": "python",
   "nbconvert_exporter": "python",
   "pygments_lexer": "ipython3",
   "version": "3.6.4"
  }
 },
 "nbformat": 4,
 "nbformat_minor": 2
}
